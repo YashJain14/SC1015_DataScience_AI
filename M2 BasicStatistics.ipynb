{
 "cells": [
  {
   "cell_type": "markdown",
   "metadata": {},
   "source": [
    "# Basic Statistics in Python\n",
    "\n",
    "Dataset from Kaggle : **\"Pokemon with stats\"** by *Alberto Barradas*  \n",
    "Source: https://www.kaggle.com/abcsds/pokemon (requires login)\n",
    "\n",
    "---\n",
    "\n",
    "### Essential Libraries\n",
    "\n",
    "Let us begin by importing the essential Python Libraries.\n",
    "\n",
    "> NumPy : Library for Numeric Computations in Python  \n",
    "> Pandas : Library for Data Acquisition and Preparation  \n",
    "> Matplotlib : Low-level library for Data Visualization  \n",
    "> Seaborn : Higher-level library for Data Visualization  "
   ]
  },
  {
   "cell_type": "code",
   "execution_count": 1,
   "metadata": {},
   "outputs": [],
   "source": [
    "# Basic Libraries\n",
    "import numpy as np\n",
    "import pandas as pd\n",
    "import seaborn as sb\n",
    "import matplotlib.pyplot as plt # we only need pyplot\n",
    "sb.set() # set the default Seaborn style for graphics"
   ]
  },
  {
   "cell_type": "markdown",
   "metadata": {},
   "source": [
    "---\n",
    "\n",
    "### Import the Dataset\n",
    "\n",
    "The dataset is in CSV format; hence we use the `read_csv` function from Pandas.  \n",
    "Immediately after importing, take a quick look at the data using the `head` function."
   ]
  },
  {
   "cell_type": "code",
   "execution_count": 5,
   "metadata": {},
   "outputs": [
    {
     "data": {
      "text/html": [
       "<div>\n",
       "<style scoped>\n",
       "    .dataframe tbody tr th:only-of-type {\n",
       "        vertical-align: middle;\n",
       "    }\n",
       "\n",
       "    .dataframe tbody tr th {\n",
       "        vertical-align: top;\n",
       "    }\n",
       "\n",
       "    .dataframe thead th {\n",
       "        text-align: right;\n",
       "    }\n",
       "</style>\n",
       "<table border=\"1\" class=\"dataframe\">\n",
       "  <thead>\n",
       "    <tr style=\"text-align: right;\">\n",
       "      <th></th>\n",
       "      <th>#</th>\n",
       "      <th>Name</th>\n",
       "      <th>Type 1</th>\n",
       "      <th>Type 2</th>\n",
       "      <th>Total</th>\n",
       "      <th>HP</th>\n",
       "      <th>Attack</th>\n",
       "      <th>Defense</th>\n",
       "      <th>Sp. Atk</th>\n",
       "      <th>Sp. Def</th>\n",
       "      <th>Speed</th>\n",
       "      <th>Generation</th>\n",
       "      <th>Legendary</th>\n",
       "    </tr>\n",
       "  </thead>\n",
       "  <tbody>\n",
       "    <tr>\n",
       "      <th>702</th>\n",
       "      <td>641</td>\n",
       "      <td>TornadusIncarnate Forme</td>\n",
       "      <td>Flying</td>\n",
       "      <td>NaN</td>\n",
       "      <td>580</td>\n",
       "      <td>79</td>\n",
       "      <td>115</td>\n",
       "      <td>70</td>\n",
       "      <td>125</td>\n",
       "      <td>80</td>\n",
       "      <td>111</td>\n",
       "      <td>5</td>\n",
       "      <td>True</td>\n",
       "    </tr>\n",
       "    <tr>\n",
       "      <th>220</th>\n",
       "      <td>205</td>\n",
       "      <td>Forretress</td>\n",
       "      <td>Bug</td>\n",
       "      <td>Steel</td>\n",
       "      <td>465</td>\n",
       "      <td>75</td>\n",
       "      <td>90</td>\n",
       "      <td>140</td>\n",
       "      <td>60</td>\n",
       "      <td>60</td>\n",
       "      <td>40</td>\n",
       "      <td>2</td>\n",
       "      <td>False</td>\n",
       "    </tr>\n",
       "    <tr>\n",
       "      <th>242</th>\n",
       "      <td>224</td>\n",
       "      <td>Octillery</td>\n",
       "      <td>Water</td>\n",
       "      <td>NaN</td>\n",
       "      <td>480</td>\n",
       "      <td>75</td>\n",
       "      <td>105</td>\n",
       "      <td>75</td>\n",
       "      <td>105</td>\n",
       "      <td>75</td>\n",
       "      <td>45</td>\n",
       "      <td>2</td>\n",
       "      <td>False</td>\n",
       "    </tr>\n",
       "    <tr>\n",
       "      <th>1</th>\n",
       "      <td>2</td>\n",
       "      <td>Ivysaur</td>\n",
       "      <td>Grass</td>\n",
       "      <td>Poison</td>\n",
       "      <td>405</td>\n",
       "      <td>60</td>\n",
       "      <td>62</td>\n",
       "      <td>63</td>\n",
       "      <td>80</td>\n",
       "      <td>80</td>\n",
       "      <td>60</td>\n",
       "      <td>1</td>\n",
       "      <td>False</td>\n",
       "    </tr>\n",
       "    <tr>\n",
       "      <th>370</th>\n",
       "      <td>338</td>\n",
       "      <td>Solrock</td>\n",
       "      <td>Rock</td>\n",
       "      <td>Psychic</td>\n",
       "      <td>440</td>\n",
       "      <td>70</td>\n",
       "      <td>95</td>\n",
       "      <td>85</td>\n",
       "      <td>55</td>\n",
       "      <td>65</td>\n",
       "      <td>70</td>\n",
       "      <td>3</td>\n",
       "      <td>False</td>\n",
       "    </tr>\n",
       "    <tr>\n",
       "      <th>340</th>\n",
       "      <td>311</td>\n",
       "      <td>Plusle</td>\n",
       "      <td>Electric</td>\n",
       "      <td>NaN</td>\n",
       "      <td>405</td>\n",
       "      <td>60</td>\n",
       "      <td>50</td>\n",
       "      <td>40</td>\n",
       "      <td>85</td>\n",
       "      <td>75</td>\n",
       "      <td>95</td>\n",
       "      <td>3</td>\n",
       "      <td>False</td>\n",
       "    </tr>\n",
       "    <tr>\n",
       "      <th>587</th>\n",
       "      <td>528</td>\n",
       "      <td>Swoobat</td>\n",
       "      <td>Psychic</td>\n",
       "      <td>Flying</td>\n",
       "      <td>425</td>\n",
       "      <td>67</td>\n",
       "      <td>57</td>\n",
       "      <td>55</td>\n",
       "      <td>77</td>\n",
       "      <td>55</td>\n",
       "      <td>114</td>\n",
       "      <td>5</td>\n",
       "      <td>False</td>\n",
       "    </tr>\n",
       "    <tr>\n",
       "      <th>143</th>\n",
       "      <td>132</td>\n",
       "      <td>Ditto</td>\n",
       "      <td>Normal</td>\n",
       "      <td>NaN</td>\n",
       "      <td>288</td>\n",
       "      <td>48</td>\n",
       "      <td>48</td>\n",
       "      <td>48</td>\n",
       "      <td>48</td>\n",
       "      <td>48</td>\n",
       "      <td>48</td>\n",
       "      <td>1</td>\n",
       "      <td>False</td>\n",
       "    </tr>\n",
       "    <tr>\n",
       "      <th>274</th>\n",
       "      <td>254</td>\n",
       "      <td>Sceptile</td>\n",
       "      <td>Grass</td>\n",
       "      <td>NaN</td>\n",
       "      <td>530</td>\n",
       "      <td>70</td>\n",
       "      <td>85</td>\n",
       "      <td>65</td>\n",
       "      <td>105</td>\n",
       "      <td>85</td>\n",
       "      <td>120</td>\n",
       "      <td>3</td>\n",
       "      <td>False</td>\n",
       "    </tr>\n",
       "    <tr>\n",
       "      <th>90</th>\n",
       "      <td>83</td>\n",
       "      <td>Farfetch'd</td>\n",
       "      <td>Normal</td>\n",
       "      <td>Flying</td>\n",
       "      <td>352</td>\n",
       "      <td>52</td>\n",
       "      <td>65</td>\n",
       "      <td>55</td>\n",
       "      <td>58</td>\n",
       "      <td>62</td>\n",
       "      <td>60</td>\n",
       "      <td>1</td>\n",
       "      <td>False</td>\n",
       "    </tr>\n",
       "  </tbody>\n",
       "</table>\n",
       "</div>"
      ],
      "text/plain": [
       "       #                     Name    Type 1   Type 2  Total  HP  Attack  \\\n",
       "702  641  TornadusIncarnate Forme    Flying      NaN    580  79     115   \n",
       "220  205               Forretress       Bug    Steel    465  75      90   \n",
       "242  224                Octillery     Water      NaN    480  75     105   \n",
       "1      2                  Ivysaur     Grass   Poison    405  60      62   \n",
       "370  338                  Solrock      Rock  Psychic    440  70      95   \n",
       "340  311                   Plusle  Electric      NaN    405  60      50   \n",
       "587  528                  Swoobat   Psychic   Flying    425  67      57   \n",
       "143  132                    Ditto    Normal      NaN    288  48      48   \n",
       "274  254                 Sceptile     Grass      NaN    530  70      85   \n",
       "90    83               Farfetch'd    Normal   Flying    352  52      65   \n",
       "\n",
       "     Defense  Sp. Atk  Sp. Def  Speed  Generation  Legendary  \n",
       "702       70      125       80    111           5       True  \n",
       "220      140       60       60     40           2      False  \n",
       "242       75      105       75     45           2      False  \n",
       "1         63       80       80     60           1      False  \n",
       "370       85       55       65     70           3      False  \n",
       "340       40       85       75     95           3      False  \n",
       "587       55       77       55    114           5      False  \n",
       "143       48       48       48     48           1      False  \n",
       "274       65      105       85    120           3      False  \n",
       "90        55       58       62     60           1      False  "
      ]
     },
     "execution_count": 5,
     "metadata": {},
     "output_type": "execute_result"
    }
   ],
   "source": [
    "pkmndata = pd.read_csv('pokemonData.csv')\n",
    "pkmndata.sample(n=10)"
   ]
  },
  {
   "cell_type": "markdown",
   "metadata": {},
   "source": [
    "Description of the dataset, as available on Kaggle, is as follows.\n",
    "Learn more : https://en.wikipedia.org/wiki/List_of_Pok%C3%A9mon\n",
    "\n",
    "> **\\#** : ID for each Pokemon (runs from 1 to 721)  \n",
    "> **Name** : Name of each Pokemon  \n",
    "> **Type 1** : Each Pokemon has a basic Type, this determines weakness/resistance to attacks  \n",
    "> **Type 2** : Some Pokemons are dual type and have a Type 2 value (set to nan otherwise)  \n",
    "> **Total** : Sum of all stats of a Pokemon, a general guide to how strong a Pokemon is  \n",
    "> **HP** : Hit Points, defines how much damage a Pokemon can withstand before fainting  \n",
    "> **Attack** : The base modifier for normal attacks by the Pokemon (e.g., scratch, punch etc.)  \n",
    "> **Defense** : The base damage resistance of the Pokemon against normal attacks  \n",
    "> **SP Atk** : Special Attack, the base modifier for special attacks (e.g. fire blast, bubble beam)  \n",
    "> **SP Def** : Special Defense, the base damage resistance against special attacks  \n",
    "> **Speed** : Determines which Pokemon attacks first each round  \n",
    "> **Generation** : Each Pokemon belongs to a certain Generation  \n",
    "> **Legendary** : Legendary Pokemons are powerful, rare, and hard to catch\n",
    "\n",
    "---\n",
    "\n",
    "Check the vital statistics of the dataset using the `type` and `shape` attributes."
   ]
  },
  {
   "cell_type": "code",
   "execution_count": 3,
   "metadata": {},
   "outputs": [
    {
     "name": "stdout",
     "output_type": "stream",
     "text": [
      "Data type :  <class 'pandas.core.frame.DataFrame'>\n",
      "Data dims :  (800, 13)\n"
     ]
    }
   ],
   "source": [
    "print(\"Data type : \", type(pkmndata))\n",
    "print(\"Data dims : \", pkmndata.shape)"
   ]
  },
  {
   "cell_type": "markdown",
   "metadata": {},
   "source": [
    "Check the variables (and their types) in the dataset using the `dtypes` attribute."
   ]
  },
  {
   "cell_type": "code",
   "execution_count": 7,
   "metadata": {},
   "outputs": [
    {
     "name": "stdout",
     "output_type": "stream",
     "text": [
      "#              int64\n",
      "Name          object\n",
      "Type 1        object\n",
      "Type 2        object\n",
      "Total          int64\n",
      "HP             int64\n",
      "Attack         int64\n",
      "Defense        int64\n",
      "Sp. Atk        int64\n",
      "Sp. Def        int64\n",
      "Speed          int64\n",
      "Generation     int64\n",
      "Legendary       bool\n",
      "dtype: object\n"
     ]
    }
   ],
   "source": [
    "print(pkmndata.dtypes)"
   ]
  },
  {
   "cell_type": "markdown",
   "metadata": {},
   "source": [
    "You can edit the code to be .head(n = 10) or something like that for example to view more of the rows. To randomise the rows that you see use .sample(n = number). Random samples will be shown after every run. "
   ]
  },
  {
   "cell_type": "markdown",
   "metadata": {},
   "source": [
    "---\n",
    "\n",
    "### Extract a Single Variable\n",
    "\n",
    "We will start by analyzing a single variable from the dataset, **HP**.  \n",
    "This variable tells us defines how much damage a Pokemon can withstand.  \n",
    "Extract the variable and its associated data as a Pandas `DataFrame`."
   ]
  },
  {
   "cell_type": "code",
   "execution_count": 6,
   "metadata": {},
   "outputs": [
    {
     "name": "stdout",
     "output_type": "stream",
     "text": [
      "Data type :  <class 'pandas.core.frame.DataFrame'>\n",
      "Data dims :  800\n"
     ]
    },
    {
     "data": {
      "text/html": [
       "<div>\n",
       "<style scoped>\n",
       "    .dataframe tbody tr th:only-of-type {\n",
       "        vertical-align: middle;\n",
       "    }\n",
       "\n",
       "    .dataframe tbody tr th {\n",
       "        vertical-align: top;\n",
       "    }\n",
       "\n",
       "    .dataframe thead th {\n",
       "        text-align: right;\n",
       "    }\n",
       "</style>\n",
       "<table border=\"1\" class=\"dataframe\">\n",
       "  <thead>\n",
       "    <tr style=\"text-align: right;\">\n",
       "      <th></th>\n",
       "      <th>HP</th>\n",
       "    </tr>\n",
       "  </thead>\n",
       "  <tbody>\n",
       "    <tr>\n",
       "      <th>0</th>\n",
       "      <td>45</td>\n",
       "    </tr>\n",
       "    <tr>\n",
       "      <th>1</th>\n",
       "      <td>60</td>\n",
       "    </tr>\n",
       "    <tr>\n",
       "      <th>2</th>\n",
       "      <td>80</td>\n",
       "    </tr>\n",
       "    <tr>\n",
       "      <th>3</th>\n",
       "      <td>80</td>\n",
       "    </tr>\n",
       "    <tr>\n",
       "      <th>4</th>\n",
       "      <td>39</td>\n",
       "    </tr>\n",
       "  </tbody>\n",
       "</table>\n",
       "</div>"
      ],
      "text/plain": [
       "   HP\n",
       "0  45\n",
       "1  60\n",
       "2  80\n",
       "3  80\n",
       "4  39"
      ]
     },
     "execution_count": 6,
     "metadata": {},
     "output_type": "execute_result"
    }
   ],
   "source": [
    "hp = pd.DataFrame(pkmndata['HP'])\n",
    "print(\"Data type : \", type(hp))\n",
    "print(\"Data dims : \", hp.size)\n",
    "hp.head()"
   ]
  },
  {
   "cell_type": "markdown",
   "metadata": {},
   "source": [
    "---\n",
    "\n",
    "### Uni-Variate Statistics\n",
    "\n",
    "Check the Summary Statistics of Uni-Variate Series using `describe`."
   ]
  },
  {
   "cell_type": "code",
   "execution_count": null,
   "metadata": {},
   "outputs": [],
   "source": [
    "hp.describe()"
   ]
  },
  {
   "cell_type": "markdown",
   "metadata": {},
   "source": [
    "Check the Summary Statistics visually using a standard `boxplot`."
   ]
  },
  {
   "cell_type": "code",
   "execution_count": null,
   "metadata": {},
   "outputs": [],
   "source": [
    "f = plt.figure(figsize=(24, 4))\n",
    "sb.boxplot(data = hp, orient = \"h\")"
   ]
  },
  {
   "cell_type": "markdown",
   "metadata": {},
   "source": [
    "Extend the summary to visualize the complete distribution of the Series.  \n",
    "The first visualization is a simple Histogram with automatic bin sizes."
   ]
  },
  {
   "cell_type": "code",
   "execution_count": null,
   "metadata": {},
   "outputs": [],
   "source": [
    "f = plt.figure(figsize=(16, 8))\n",
    "sb.histplot(data = hp)"
   ]
  },
  {
   "cell_type": "markdown",
   "metadata": {},
   "source": [
    "The second visualization is a simple Kernel Density Estimate (KDE)."
   ]
  },
  {
   "cell_type": "code",
   "execution_count": null,
   "metadata": {},
   "outputs": [],
   "source": [
    "f = plt.figure(figsize=(16, 8))\n",
    "sb.kdeplot(data = hp)"
   ]
  },
  {
   "cell_type": "markdown",
   "metadata": {},
   "source": [
    "You may also want a combination of the two, `hist` and `kde`, as follows."
   ]
  },
  {
   "cell_type": "code",
   "execution_count": null,
   "metadata": {},
   "outputs": [],
   "source": [
    "f = plt.figure(figsize=(16, 8))\n",
    "sb.histplot(data = hp, kde = True)"
   ]
  },
  {
   "cell_type": "markdown",
   "metadata": {},
   "source": [
    "Finally, the **Violin Plot** combines boxplot with kernel density estimate."
   ]
  },
  {
   "cell_type": "code",
   "execution_count": null,
   "metadata": {},
   "outputs": [],
   "source": [
    "f = plt.figure(figsize=(16, 8))\n",
    "sb.violinplot(data = hp, orient = \"h\")"
   ]
  },
  {
   "cell_type": "code",
   "execution_count": null,
   "metadata": {},
   "outputs": [],
   "source": []
  },
  {
   "cell_type": "markdown",
   "metadata": {},
   "source": [
    "---\n",
    "\n",
    "### Extract Two Variables\n",
    "\n",
    "Next, we will analyze two variables from the dataset, **HP** vs **Attack**.  \n",
    "Extract the two variables and their associated data as a Pandas `DataFrame`."
   ]
  },
  {
   "cell_type": "code",
   "execution_count": null,
   "metadata": {},
   "outputs": [],
   "source": [
    "hp = pd.DataFrame(pkmndata['HP'])\n",
    "attack = pd.DataFrame(pkmndata['Attack'])"
   ]
  },
  {
   "cell_type": "markdown",
   "metadata": {},
   "source": [
    "---\n",
    "\n",
    "### Bi-Variate Statistics\n",
    "\n",
    "We can of course check the uni-variate Summary Statistics for each variable."
   ]
  },
  {
   "cell_type": "code",
   "execution_count": null,
   "metadata": {},
   "outputs": [],
   "source": [
    "# Summary Statistics for HP\n",
    "hp.describe()"
   ]
  },
  {
   "cell_type": "code",
   "execution_count": null,
   "metadata": {},
   "outputs": [],
   "source": [
    "# Summary Statistics for Attack\n",
    "attack.describe()"
   ]
  },
  {
   "cell_type": "markdown",
   "metadata": {},
   "source": [
    "And visualize the uni-variate Distributions of each variable independently."
   ]
  },
  {
   "cell_type": "code",
   "execution_count": null,
   "metadata": {},
   "outputs": [],
   "source": [
    "# Set up matplotlib figure with three subplots\n",
    "f, axes = plt.subplots(2, 3, figsize=(24, 12))\n",
    "\n",
    "# Plot the basic uni-variate figures for HP\n",
    "sb.boxplot(data = hp, orient = \"h\", ax = axes[0,0])\n",
    "sb.histplot(data = hp, ax = axes[0,1])\n",
    "sb.violinplot(data = hp, orient = \"h\", ax = axes[0,2])\n",
    "\n",
    "# Plot the basic uni-variate figures for Attack\n",
    "sb.boxplot(data = attack, orient = \"h\", ax = axes[1,0])\n",
    "sb.histplot(data = attack, ax = axes[1,1])\n",
    "sb.violinplot(data = attack, orient = \"h\", ax = axes[1,2])"
   ]
  },
  {
   "cell_type": "markdown",
   "metadata": {},
   "source": [
    "However, it will be more interesting to visualize them together in a `jointplot`."
   ]
  },
  {
   "cell_type": "code",
   "execution_count": null,
   "metadata": {},
   "outputs": [],
   "source": [
    "# Create a joint dataframe by concatenating the two variables\n",
    "jointDF = pd.concat([attack, hp], axis = 1).reindex(attack.index)\n",
    "jointDF"
   ]
  },
  {
   "cell_type": "code",
   "execution_count": null,
   "metadata": {},
   "outputs": [],
   "source": [
    "# Draw jointplot of the two variables in the joined dataframe\n",
    "sb.jointplot(data = jointDF, x = \"Attack\", y = \"HP\", height = 12)"
   ]
  },
  {
   "cell_type": "markdown",
   "metadata": {},
   "source": [
    "As it tells us something about the **Correlation** between the two variables."
   ]
  },
  {
   "cell_type": "code",
   "execution_count": null,
   "metadata": {},
   "outputs": [],
   "source": [
    "# Calculate the correlation between the two columns/variables\n",
    "jointDF.corr()"
   ]
  },
  {
   "cell_type": "markdown",
   "metadata": {},
   "source": [
    "One may visualize the correlation matrix as a `heatmap` to gain a better insight."
   ]
  },
  {
   "cell_type": "code",
   "execution_count": null,
   "metadata": {
    "scrolled": true
   },
   "outputs": [],
   "source": [
    "sb.heatmap(jointDF.corr(), vmin = -1, vmax = 1, annot = True, fmt=\".2f\")"
   ]
  },
  {
   "cell_type": "code",
   "execution_count": null,
   "metadata": {},
   "outputs": [],
   "source": []
  },
  {
   "cell_type": "markdown",
   "metadata": {},
   "source": [
    "---\n",
    "\n",
    "### Multi-Variate Statistics\n",
    "\n",
    "Similarly, we may analyze all numeric values in the original dataset."
   ]
  },
  {
   "cell_type": "code",
   "execution_count": null,
   "metadata": {},
   "outputs": [],
   "source": [
    "# Extract only the numeric data variables\n",
    "numDF = pd.DataFrame(pkmndata[[\"HP\", \"Attack\", \"Defense\", \"Sp. Atk\", \"Sp. Def\", \"Speed\"]])\n",
    "\n",
    "# Summary Statistics for all Variables\n",
    "numDF.describe()"
   ]
  },
  {
   "cell_type": "code",
   "execution_count": null,
   "metadata": {},
   "outputs": [],
   "source": [
    "# Draw the Boxplots of all variables\n",
    "f = plt.figure(figsize=(16, 8))\n",
    "sb.boxplot(data = numDF, orient = \"h\")"
   ]
  },
  {
   "cell_type": "code",
   "execution_count": null,
   "metadata": {},
   "outputs": [],
   "source": [
    "# Draw the distributions of all variables\n",
    "f, axes = plt.subplots(6, 3, figsize=(18, 24))\n",
    "\n",
    "count = 0\n",
    "for var in numDF:\n",
    "    sb.boxplot(data = numDF[var], orient = \"h\", ax = axes[count,0])\n",
    "    sb.histplot(data = numDF[var], ax = axes[count,1])\n",
    "    sb.violinplot(data = numDF[var], orient = \"h\", ax = axes[count,2])\n",
    "    count += 1"
   ]
  },
  {
   "cell_type": "code",
   "execution_count": null,
   "metadata": {},
   "outputs": [],
   "source": [
    "# Calculate the complete  correlation matrix\n",
    "numDF.corr()"
   ]
  },
  {
   "cell_type": "code",
   "execution_count": null,
   "metadata": {},
   "outputs": [],
   "source": [
    "# Heatmap of the Correlation Matrix\n",
    "f = plt.figure(figsize=(12, 12))\n",
    "sb.heatmap(numDF.corr(), vmin = -1, vmax = 1, annot = True, fmt = \".2f\")"
   ]
  },
  {
   "cell_type": "code",
   "execution_count": null,
   "metadata": {},
   "outputs": [],
   "source": [
    "# Draw pairs of variables against one another\n",
    "sb.pairplot(data = numDF)"
   ]
  },
  {
   "cell_type": "code",
   "execution_count": null,
   "metadata": {},
   "outputs": [],
   "source": []
  },
  {
   "cell_type": "code",
   "execution_count": null,
   "metadata": {},
   "outputs": [],
   "source": []
  }
 ],
 "metadata": {
  "kernelspec": {
   "display_name": "Python 3 (ipykernel)",
   "language": "python",
   "name": "python3"
  },
  "language_info": {
   "codemirror_mode": {
    "name": "ipython",
    "version": 3
   },
   "file_extension": ".py",
   "mimetype": "text/x-python",
   "name": "python",
   "nbconvert_exporter": "python",
   "pygments_lexer": "ipython3",
   "version": "3.9.7"
  }
 },
 "nbformat": 4,
 "nbformat_minor": 2
}
